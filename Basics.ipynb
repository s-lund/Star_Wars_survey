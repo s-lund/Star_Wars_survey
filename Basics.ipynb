{
 "cells": [
  {
   "cell_type": "markdown",
   "metadata": {},
   "source": [
    "** Loading libraries **"
   ]
  },
  {
   "cell_type": "code",
   "execution_count": 1,
   "metadata": {
    "collapsed": true
   },
   "outputs": [],
   "source": [
    "%matplotlib inline\n",
    "import matplotlib.pyplot as plt\n",
    "import numpy as np\n",
    "import pandas as pd\n",
    "import seaborn as sns"
   ]
  },
  {
   "cell_type": "markdown",
   "metadata": {},
   "source": [
    "** Loading data (copied from fivethirtyeight) **"
   ]
  },
  {
   "cell_type": "code",
   "execution_count": 2,
   "metadata": {
    "collapsed": false
   },
   "outputs": [
    {
     "data": {
      "text/html": [
       "<div style=\"max-height:1000px;max-width:1500px;overflow:auto;\">\n",
       "<table border=\"1\" class=\"dataframe\">\n",
       "  <thead>\n",
       "    <tr style=\"text-align: right;\">\n",
       "      <th></th>\n",
       "      <th>RespondentID</th>\n",
       "      <th>Have you seen any of the 6 films in the Star Wars franchise?</th>\n",
       "      <th>Do you consider yourself to be a fan of the Star Wars film franchise?</th>\n",
       "      <th>Which of the following Star Wars films have you seen? Please select all that apply.</th>\n",
       "      <th>Unnamed: 4</th>\n",
       "      <th>Unnamed: 5</th>\n",
       "      <th>Unnamed: 6</th>\n",
       "      <th>Unnamed: 7</th>\n",
       "      <th>Unnamed: 8</th>\n",
       "      <th>Please rank the Star Wars films in order of preference with 1 being your favorite film in the franchise and 6 being your least favorite film.</th>\n",
       "      <th>...</th>\n",
       "      <th>Unnamed: 28</th>\n",
       "      <th>Which character shot first?</th>\n",
       "      <th>Are you familiar with the Expanded Universe?</th>\n",
       "      <th>Do you consider yourself to be a fan of the Expanded Universe?ÂÃ¦</th>\n",
       "      <th>Do you consider yourself to be a fan of the Star Trek franchise?</th>\n",
       "      <th>Gender</th>\n",
       "      <th>Age</th>\n",
       "      <th>Household Income</th>\n",
       "      <th>Education</th>\n",
       "      <th>Location (Census Region)</th>\n",
       "    </tr>\n",
       "  </thead>\n",
       "  <tbody>\n",
       "    <tr>\n",
       "      <th>0</th>\n",
       "      <td>        NaN</td>\n",
       "      <td> Response</td>\n",
       "      <td> Response</td>\n",
       "      <td> Star Wars: Episode I  The Phantom Menace</td>\n",
       "      <td> Star Wars: Episode II  Attack of the Clones</td>\n",
       "      <td> Star Wars: Episode III  Revenge of the Sith</td>\n",
       "      <td> Star Wars: Episode IV  A New Hope</td>\n",
       "      <td> Star Wars: Episode V The Empire Strikes Back</td>\n",
       "      <td> Star Wars: Episode VI Return of the Jedi</td>\n",
       "      <td> Star Wars: Episode I  The Phantom Menace</td>\n",
       "      <td>...</td>\n",
       "      <td>             Yoda</td>\n",
       "      <td>                         Response</td>\n",
       "      <td> Response</td>\n",
       "      <td> Response</td>\n",
       "      <td> Response</td>\n",
       "      <td> Response</td>\n",
       "      <td> Response</td>\n",
       "      <td>            Response</td>\n",
       "      <td>                         Response</td>\n",
       "      <td>           Response</td>\n",
       "    </tr>\n",
       "    <tr>\n",
       "      <th>1</th>\n",
       "      <td> 3292879998</td>\n",
       "      <td>      Yes</td>\n",
       "      <td>      Yes</td>\n",
       "      <td> Star Wars: Episode I  The Phantom Menace</td>\n",
       "      <td> Star Wars: Episode II  Attack of the Clones</td>\n",
       "      <td> Star Wars: Episode III  Revenge of the Sith</td>\n",
       "      <td> Star Wars: Episode IV  A New Hope</td>\n",
       "      <td> Star Wars: Episode V The Empire Strikes Back</td>\n",
       "      <td> Star Wars: Episode VI Return of the Jedi</td>\n",
       "      <td>                                        3</td>\n",
       "      <td>...</td>\n",
       "      <td>   Very favorably</td>\n",
       "      <td> I don't understand this question</td>\n",
       "      <td>      Yes</td>\n",
       "      <td>       No</td>\n",
       "      <td>       No</td>\n",
       "      <td>     Male</td>\n",
       "      <td>    18-29</td>\n",
       "      <td>                 NaN</td>\n",
       "      <td>               High school degree</td>\n",
       "      <td>     South Atlantic</td>\n",
       "    </tr>\n",
       "    <tr>\n",
       "      <th>2</th>\n",
       "      <td> 3292879538</td>\n",
       "      <td>       No</td>\n",
       "      <td>      NaN</td>\n",
       "      <td>                                      NaN</td>\n",
       "      <td>                                         NaN</td>\n",
       "      <td>                                         NaN</td>\n",
       "      <td>                               NaN</td>\n",
       "      <td>                                          NaN</td>\n",
       "      <td>                                      NaN</td>\n",
       "      <td>                                      NaN</td>\n",
       "      <td>...</td>\n",
       "      <td>              NaN</td>\n",
       "      <td>                              NaN</td>\n",
       "      <td>      NaN</td>\n",
       "      <td>      NaN</td>\n",
       "      <td>      Yes</td>\n",
       "      <td>     Male</td>\n",
       "      <td>    18-29</td>\n",
       "      <td>        $0 - $24,999</td>\n",
       "      <td>                  Bachelor degree</td>\n",
       "      <td> West South Central</td>\n",
       "    </tr>\n",
       "    <tr>\n",
       "      <th>3</th>\n",
       "      <td> 3292765271</td>\n",
       "      <td>      Yes</td>\n",
       "      <td>       No</td>\n",
       "      <td> Star Wars: Episode I  The Phantom Menace</td>\n",
       "      <td> Star Wars: Episode II  Attack of the Clones</td>\n",
       "      <td> Star Wars: Episode III  Revenge of the Sith</td>\n",
       "      <td>                               NaN</td>\n",
       "      <td>                                          NaN</td>\n",
       "      <td>                                      NaN</td>\n",
       "      <td>                                        1</td>\n",
       "      <td>...</td>\n",
       "      <td> Unfamiliar (N/A)</td>\n",
       "      <td> I don't understand this question</td>\n",
       "      <td>       No</td>\n",
       "      <td>      NaN</td>\n",
       "      <td>       No</td>\n",
       "      <td>     Male</td>\n",
       "      <td>    18-29</td>\n",
       "      <td>        $0 - $24,999</td>\n",
       "      <td>               High school degree</td>\n",
       "      <td> West North Central</td>\n",
       "    </tr>\n",
       "    <tr>\n",
       "      <th>4</th>\n",
       "      <td> 3292763116</td>\n",
       "      <td>      Yes</td>\n",
       "      <td>      Yes</td>\n",
       "      <td> Star Wars: Episode I  The Phantom Menace</td>\n",
       "      <td> Star Wars: Episode II  Attack of the Clones</td>\n",
       "      <td> Star Wars: Episode III  Revenge of the Sith</td>\n",
       "      <td> Star Wars: Episode IV  A New Hope</td>\n",
       "      <td> Star Wars: Episode V The Empire Strikes Back</td>\n",
       "      <td> Star Wars: Episode VI Return of the Jedi</td>\n",
       "      <td>                                        5</td>\n",
       "      <td>...</td>\n",
       "      <td>   Very favorably</td>\n",
       "      <td> I don't understand this question</td>\n",
       "      <td>       No</td>\n",
       "      <td>      NaN</td>\n",
       "      <td>      Yes</td>\n",
       "      <td>     Male</td>\n",
       "      <td>    18-29</td>\n",
       "      <td> $100,000 - $149,999</td>\n",
       "      <td> Some college or Associate degree</td>\n",
       "      <td> West North Central</td>\n",
       "    </tr>\n",
       "  </tbody>\n",
       "</table>\n",
       "<p>5 rows × 38 columns</p>\n",
       "</div>"
      ],
      "text/plain": [
       "   RespondentID Have you seen any of the 6 films in the Star Wars franchise?  \\\n",
       "0           NaN                                           Response             \n",
       "1    3292879998                                                Yes             \n",
       "2    3292879538                                                 No             \n",
       "3    3292765271                                                Yes             \n",
       "4    3292763116                                                Yes             \n",
       "\n",
       "  Do you consider yourself to be a fan of the Star Wars film franchise?  \\\n",
       "0                                           Response                      \n",
       "1                                                Yes                      \n",
       "2                                                NaN                      \n",
       "3                                                 No                      \n",
       "4                                                Yes                      \n",
       "\n",
       "  Which of the following Star Wars films have you seen? Please select all that apply.  \\\n",
       "0           Star Wars: Episode I  The Phantom Menace                                    \n",
       "1           Star Wars: Episode I  The Phantom Menace                                    \n",
       "2                                                NaN                                    \n",
       "3           Star Wars: Episode I  The Phantom Menace                                    \n",
       "4           Star Wars: Episode I  The Phantom Menace                                    \n",
       "\n",
       "                                    Unnamed: 4  \\\n",
       "0  Star Wars: Episode II  Attack of the Clones   \n",
       "1  Star Wars: Episode II  Attack of the Clones   \n",
       "2                                          NaN   \n",
       "3  Star Wars: Episode II  Attack of the Clones   \n",
       "4  Star Wars: Episode II  Attack of the Clones   \n",
       "\n",
       "                                    Unnamed: 5  \\\n",
       "0  Star Wars: Episode III  Revenge of the Sith   \n",
       "1  Star Wars: Episode III  Revenge of the Sith   \n",
       "2                                          NaN   \n",
       "3  Star Wars: Episode III  Revenge of the Sith   \n",
       "4  Star Wars: Episode III  Revenge of the Sith   \n",
       "\n",
       "                          Unnamed: 6  \\\n",
       "0  Star Wars: Episode IV  A New Hope   \n",
       "1  Star Wars: Episode IV  A New Hope   \n",
       "2                                NaN   \n",
       "3                                NaN   \n",
       "4  Star Wars: Episode IV  A New Hope   \n",
       "\n",
       "                                     Unnamed: 7  \\\n",
       "0  Star Wars: Episode V The Empire Strikes Back   \n",
       "1  Star Wars: Episode V The Empire Strikes Back   \n",
       "2                                           NaN   \n",
       "3                                           NaN   \n",
       "4  Star Wars: Episode V The Empire Strikes Back   \n",
       "\n",
       "                                 Unnamed: 8  \\\n",
       "0  Star Wars: Episode VI Return of the Jedi   \n",
       "1  Star Wars: Episode VI Return of the Jedi   \n",
       "2                                       NaN   \n",
       "3                                       NaN   \n",
       "4  Star Wars: Episode VI Return of the Jedi   \n",
       "\n",
       "  Please rank the Star Wars films in order of preference with 1 being your favorite film in the franchise and 6 being your least favorite film.  \\\n",
       "0           Star Wars: Episode I  The Phantom Menace                                                                                              \n",
       "1                                                  3                                                                                              \n",
       "2                                                NaN                                                                                              \n",
       "3                                                  1                                                                                              \n",
       "4                                                  5                                                                                              \n",
       "\n",
       "            ...                  Unnamed: 28  \\\n",
       "0           ...                         Yoda   \n",
       "1           ...               Very favorably   \n",
       "2           ...                          NaN   \n",
       "3           ...             Unfamiliar (N/A)   \n",
       "4           ...               Very favorably   \n",
       "\n",
       "        Which character shot first?  \\\n",
       "0                          Response   \n",
       "1  I don't understand this question   \n",
       "2                               NaN   \n",
       "3  I don't understand this question   \n",
       "4  I don't understand this question   \n",
       "\n",
       "  Are you familiar with the Expanded Universe?  \\\n",
       "0                                     Response   \n",
       "1                                          Yes   \n",
       "2                                          NaN   \n",
       "3                                           No   \n",
       "4                                           No   \n",
       "\n",
       "  Do you consider yourself to be a fan of the Expanded Universe?ÂÃ¦  \\\n",
       "0                                           Response                   \n",
       "1                                                 No                   \n",
       "2                                                NaN                   \n",
       "3                                                NaN                   \n",
       "4                                                NaN                   \n",
       "\n",
       "  Do you consider yourself to be a fan of the Star Trek franchise?    Gender  \\\n",
       "0                                           Response                Response   \n",
       "1                                                 No                    Male   \n",
       "2                                                Yes                    Male   \n",
       "3                                                 No                    Male   \n",
       "4                                                Yes                    Male   \n",
       "\n",
       "        Age     Household Income                         Education  \\\n",
       "0  Response             Response                          Response   \n",
       "1     18-29                  NaN                High school degree   \n",
       "2     18-29         $0 - $24,999                   Bachelor degree   \n",
       "3     18-29         $0 - $24,999                High school degree   \n",
       "4     18-29  $100,000 - $149,999  Some college or Associate degree   \n",
       "\n",
       "  Location (Census Region)  \n",
       "0                 Response  \n",
       "1           South Atlantic  \n",
       "2       West South Central  \n",
       "3       West North Central  \n",
       "4       West North Central  \n",
       "\n",
       "[5 rows x 38 columns]"
      ]
     },
     "execution_count": 2,
     "metadata": {},
     "output_type": "execute_result"
    }
   ],
   "source": [
    "star_wars = pd.read_csv(\"star_wars.csv\", encoding=\"ISO-8859-1\")\n",
    "star_wars.head()"
   ]
  },
  {
   "cell_type": "markdown",
   "metadata": {},
   "source": [
    "** Cleaning up the header **"
   ]
  },
  {
   "cell_type": "code",
   "execution_count": 3,
   "metadata": {
    "collapsed": false
   },
   "outputs": [],
   "source": [
    "star_wars.iloc[0:10, 9:]\n",
    "#star_wars[0,3] = 'seen: ' + star_wars[1,3].strip('Star Wars: ')\n",
    "for index in range(3,9):\n",
    "    star_wars.rename(\n",
    "        columns={star_wars.columns[index]:'Seen: ' + star_wars.iloc[0,index].strip('Star Wars: ')},\n",
    "        inplace=True\n",
    "    )\n",
    "for index in range(9,15):\n",
    "    star_wars.rename(\n",
    "        columns={star_wars.columns[index]:'Ranking: ' + star_wars.iloc[0,index].strip('Star Wars: ')},\n",
    "        inplace=True\n",
    "    )    \n",
    "for index in range(15,29):\n",
    "    star_wars.rename(\n",
    "        columns={star_wars.columns[index]:'Popularity: ' + star_wars.iloc[0,index]},\n",
    "        inplace=True\n",
    "    )  \n",
    "    \n",
    "star_wars.drop(0, inplace=True)"
   ]
  },
  {
   "cell_type": "markdown",
   "metadata": {},
   "source": [
    "** Setting RespondentID as index **"
   ]
  },
  {
   "cell_type": "code",
   "execution_count": 4,
   "metadata": {
    "collapsed": false
   },
   "outputs": [
    {
     "data": {
      "text/html": [
       "<div style=\"max-height:1000px;max-width:1500px;overflow:auto;\">\n",
       "<table border=\"1\" class=\"dataframe\">\n",
       "  <thead>\n",
       "    <tr style=\"text-align: right;\">\n",
       "      <th></th>\n",
       "      <th>Have you seen any of the 6 films in the Star Wars franchise?</th>\n",
       "      <th>Do you consider yourself to be a fan of the Star Wars film franchise?</th>\n",
       "      <th>Seen: Episode I  The Phantom Menace</th>\n",
       "      <th>Seen: Episode II  Attack of the Clone</th>\n",
       "      <th>Seen: Episode III  Revenge of the Sith</th>\n",
       "      <th>Seen: Episode IV  A New Hope</th>\n",
       "      <th>Seen: Episode V The Empire Strikes Back</th>\n",
       "      <th>Seen: Episode VI Return of the Jedi</th>\n",
       "      <th>Ranking: Episode I  The Phantom Menace</th>\n",
       "      <th>Ranking: Episode II  Attack of the Clone</th>\n",
       "      <th>...</th>\n",
       "      <th>Popularity: Yoda</th>\n",
       "      <th>Which character shot first?</th>\n",
       "      <th>Are you familiar with the Expanded Universe?</th>\n",
       "      <th>Do you consider yourself to be a fan of the Expanded Universe?ÂÃ¦</th>\n",
       "      <th>Do you consider yourself to be a fan of the Star Trek franchise?</th>\n",
       "      <th>Gender</th>\n",
       "      <th>Age</th>\n",
       "      <th>Household Income</th>\n",
       "      <th>Education</th>\n",
       "      <th>Location (Census Region)</th>\n",
       "    </tr>\n",
       "    <tr>\n",
       "      <th>RespondentID</th>\n",
       "      <th></th>\n",
       "      <th></th>\n",
       "      <th></th>\n",
       "      <th></th>\n",
       "      <th></th>\n",
       "      <th></th>\n",
       "      <th></th>\n",
       "      <th></th>\n",
       "      <th></th>\n",
       "      <th></th>\n",
       "      <th></th>\n",
       "      <th></th>\n",
       "      <th></th>\n",
       "      <th></th>\n",
       "      <th></th>\n",
       "      <th></th>\n",
       "      <th></th>\n",
       "      <th></th>\n",
       "      <th></th>\n",
       "      <th></th>\n",
       "      <th></th>\n",
       "    </tr>\n",
       "  </thead>\n",
       "  <tbody>\n",
       "    <tr>\n",
       "      <th>3292879998</th>\n",
       "      <td> Yes</td>\n",
       "      <td> Yes</td>\n",
       "      <td> Star Wars: Episode I  The Phantom Menace</td>\n",
       "      <td> Star Wars: Episode II  Attack of the Clones</td>\n",
       "      <td> Star Wars: Episode III  Revenge of the Sith</td>\n",
       "      <td> Star Wars: Episode IV  A New Hope</td>\n",
       "      <td> Star Wars: Episode V The Empire Strikes Back</td>\n",
       "      <td> Star Wars: Episode VI Return of the Jedi</td>\n",
       "      <td>   3</td>\n",
       "      <td>   2</td>\n",
       "      <td>...</td>\n",
       "      <td>     Very favorably</td>\n",
       "      <td> I don't understand this question</td>\n",
       "      <td> Yes</td>\n",
       "      <td>  No</td>\n",
       "      <td>  No</td>\n",
       "      <td> Male</td>\n",
       "      <td> 18-29</td>\n",
       "      <td>                 NaN</td>\n",
       "      <td>               High school degree</td>\n",
       "      <td>     South Atlantic</td>\n",
       "    </tr>\n",
       "    <tr>\n",
       "      <th>3292879538</th>\n",
       "      <td>  No</td>\n",
       "      <td> NaN</td>\n",
       "      <td>                                      NaN</td>\n",
       "      <td>                                         NaN</td>\n",
       "      <td>                                         NaN</td>\n",
       "      <td>                               NaN</td>\n",
       "      <td>                                          NaN</td>\n",
       "      <td>                                      NaN</td>\n",
       "      <td> NaN</td>\n",
       "      <td> NaN</td>\n",
       "      <td>...</td>\n",
       "      <td>                NaN</td>\n",
       "      <td>                              NaN</td>\n",
       "      <td> NaN</td>\n",
       "      <td> NaN</td>\n",
       "      <td> Yes</td>\n",
       "      <td> Male</td>\n",
       "      <td> 18-29</td>\n",
       "      <td>        $0 - $24,999</td>\n",
       "      <td>                  Bachelor degree</td>\n",
       "      <td> West South Central</td>\n",
       "    </tr>\n",
       "    <tr>\n",
       "      <th>3292765271</th>\n",
       "      <td> Yes</td>\n",
       "      <td>  No</td>\n",
       "      <td> Star Wars: Episode I  The Phantom Menace</td>\n",
       "      <td> Star Wars: Episode II  Attack of the Clones</td>\n",
       "      <td> Star Wars: Episode III  Revenge of the Sith</td>\n",
       "      <td>                               NaN</td>\n",
       "      <td>                                          NaN</td>\n",
       "      <td>                                      NaN</td>\n",
       "      <td>   1</td>\n",
       "      <td>   2</td>\n",
       "      <td>...</td>\n",
       "      <td>   Unfamiliar (N/A)</td>\n",
       "      <td> I don't understand this question</td>\n",
       "      <td>  No</td>\n",
       "      <td> NaN</td>\n",
       "      <td>  No</td>\n",
       "      <td> Male</td>\n",
       "      <td> 18-29</td>\n",
       "      <td>        $0 - $24,999</td>\n",
       "      <td>               High school degree</td>\n",
       "      <td> West North Central</td>\n",
       "    </tr>\n",
       "    <tr>\n",
       "      <th>3292763116</th>\n",
       "      <td> Yes</td>\n",
       "      <td> Yes</td>\n",
       "      <td> Star Wars: Episode I  The Phantom Menace</td>\n",
       "      <td> Star Wars: Episode II  Attack of the Clones</td>\n",
       "      <td> Star Wars: Episode III  Revenge of the Sith</td>\n",
       "      <td> Star Wars: Episode IV  A New Hope</td>\n",
       "      <td> Star Wars: Episode V The Empire Strikes Back</td>\n",
       "      <td> Star Wars: Episode VI Return of the Jedi</td>\n",
       "      <td>   5</td>\n",
       "      <td>   6</td>\n",
       "      <td>...</td>\n",
       "      <td>     Very favorably</td>\n",
       "      <td> I don't understand this question</td>\n",
       "      <td>  No</td>\n",
       "      <td> NaN</td>\n",
       "      <td> Yes</td>\n",
       "      <td> Male</td>\n",
       "      <td> 18-29</td>\n",
       "      <td> $100,000 - $149,999</td>\n",
       "      <td> Some college or Associate degree</td>\n",
       "      <td> West North Central</td>\n",
       "    </tr>\n",
       "    <tr>\n",
       "      <th>3292731220</th>\n",
       "      <td> Yes</td>\n",
       "      <td> Yes</td>\n",
       "      <td> Star Wars: Episode I  The Phantom Menace</td>\n",
       "      <td> Star Wars: Episode II  Attack of the Clones</td>\n",
       "      <td> Star Wars: Episode III  Revenge of the Sith</td>\n",
       "      <td> Star Wars: Episode IV  A New Hope</td>\n",
       "      <td> Star Wars: Episode V The Empire Strikes Back</td>\n",
       "      <td> Star Wars: Episode VI Return of the Jedi</td>\n",
       "      <td>   5</td>\n",
       "      <td>   4</td>\n",
       "      <td>...</td>\n",
       "      <td> Somewhat favorably</td>\n",
       "      <td>                           Greedo</td>\n",
       "      <td> Yes</td>\n",
       "      <td>  No</td>\n",
       "      <td>  No</td>\n",
       "      <td> Male</td>\n",
       "      <td> 18-29</td>\n",
       "      <td> $100,000 - $149,999</td>\n",
       "      <td> Some college or Associate degree</td>\n",
       "      <td> West North Central</td>\n",
       "    </tr>\n",
       "  </tbody>\n",
       "</table>\n",
       "<p>5 rows × 37 columns</p>\n",
       "</div>"
      ],
      "text/plain": [
       "             Have you seen any of the 6 films in the Star Wars franchise?  \\\n",
       "RespondentID                                                                \n",
       "3292879998                                                  Yes             \n",
       "3292879538                                                   No             \n",
       "3292765271                                                  Yes             \n",
       "3292763116                                                  Yes             \n",
       "3292731220                                                  Yes             \n",
       "\n",
       "             Do you consider yourself to be a fan of the Star Wars film franchise?  \\\n",
       "RespondentID                                                                         \n",
       "3292879998                                                  Yes                      \n",
       "3292879538                                                  NaN                      \n",
       "3292765271                                                   No                      \n",
       "3292763116                                                  Yes                      \n",
       "3292731220                                                  Yes                      \n",
       "\n",
       "                   Seen: Episode I  The Phantom Menace  \\\n",
       "RespondentID                                             \n",
       "3292879998    Star Wars: Episode I  The Phantom Menace   \n",
       "3292879538                                         NaN   \n",
       "3292765271    Star Wars: Episode I  The Phantom Menace   \n",
       "3292763116    Star Wars: Episode I  The Phantom Menace   \n",
       "3292731220    Star Wars: Episode I  The Phantom Menace   \n",
       "\n",
       "                    Seen: Episode II  Attack of the Clone  \\\n",
       "RespondentID                                                \n",
       "3292879998    Star Wars: Episode II  Attack of the Clones   \n",
       "3292879538                                            NaN   \n",
       "3292765271    Star Wars: Episode II  Attack of the Clones   \n",
       "3292763116    Star Wars: Episode II  Attack of the Clones   \n",
       "3292731220    Star Wars: Episode II  Attack of the Clones   \n",
       "\n",
       "                   Seen: Episode III  Revenge of the Sith  \\\n",
       "RespondentID                                                \n",
       "3292879998    Star Wars: Episode III  Revenge of the Sith   \n",
       "3292879538                                            NaN   \n",
       "3292765271    Star Wars: Episode III  Revenge of the Sith   \n",
       "3292763116    Star Wars: Episode III  Revenge of the Sith   \n",
       "3292731220    Star Wars: Episode III  Revenge of the Sith   \n",
       "\n",
       "                   Seen: Episode IV  A New Hope  \\\n",
       "RespondentID                                      \n",
       "3292879998    Star Wars: Episode IV  A New Hope   \n",
       "3292879538                                  NaN   \n",
       "3292765271                                  NaN   \n",
       "3292763116    Star Wars: Episode IV  A New Hope   \n",
       "3292731220    Star Wars: Episode IV  A New Hope   \n",
       "\n",
       "                   Seen: Episode V The Empire Strikes Back  \\\n",
       "RespondentID                                                 \n",
       "3292879998    Star Wars: Episode V The Empire Strikes Back   \n",
       "3292879538                                             NaN   \n",
       "3292765271                                             NaN   \n",
       "3292763116    Star Wars: Episode V The Empire Strikes Back   \n",
       "3292731220    Star Wars: Episode V The Empire Strikes Back   \n",
       "\n",
       "                   Seen: Episode VI Return of the Jedi  \\\n",
       "RespondentID                                             \n",
       "3292879998    Star Wars: Episode VI Return of the Jedi   \n",
       "3292879538                                         NaN   \n",
       "3292765271                                         NaN   \n",
       "3292763116    Star Wars: Episode VI Return of the Jedi   \n",
       "3292731220    Star Wars: Episode VI Return of the Jedi   \n",
       "\n",
       "             Ranking: Episode I  The Phantom Menace  \\\n",
       "RespondentID                                          \n",
       "3292879998                                        3   \n",
       "3292879538                                      NaN   \n",
       "3292765271                                        1   \n",
       "3292763116                                        5   \n",
       "3292731220                                        5   \n",
       "\n",
       "             Ranking: Episode II  Attack of the Clone  \\\n",
       "RespondentID                                            \n",
       "3292879998                                          2   \n",
       "3292879538                                        NaN   \n",
       "3292765271                                          2   \n",
       "3292763116                                          6   \n",
       "3292731220                                          4   \n",
       "\n",
       "                       ...               Popularity: Yoda  \\\n",
       "RespondentID           ...                                  \n",
       "3292879998             ...                 Very favorably   \n",
       "3292879538             ...                            NaN   \n",
       "3292765271             ...               Unfamiliar (N/A)   \n",
       "3292763116             ...                 Very favorably   \n",
       "3292731220             ...             Somewhat favorably   \n",
       "\n",
       "                   Which character shot first?  \\\n",
       "RespondentID                                     \n",
       "3292879998    I don't understand this question   \n",
       "3292879538                                 NaN   \n",
       "3292765271    I don't understand this question   \n",
       "3292763116    I don't understand this question   \n",
       "3292731220                              Greedo   \n",
       "\n",
       "             Are you familiar with the Expanded Universe?  \\\n",
       "RespondentID                                                \n",
       "3292879998                                            Yes   \n",
       "3292879538                                            NaN   \n",
       "3292765271                                             No   \n",
       "3292763116                                             No   \n",
       "3292731220                                            Yes   \n",
       "\n",
       "             Do you consider yourself to be a fan of the Expanded Universe?ÂÃ¦  \\\n",
       "RespondentID                                                                      \n",
       "3292879998                                                   No                   \n",
       "3292879538                                                  NaN                   \n",
       "3292765271                                                  NaN                   \n",
       "3292763116                                                  NaN                   \n",
       "3292731220                                                   No                   \n",
       "\n",
       "             Do you consider yourself to be a fan of the Star Trek franchise?  \\\n",
       "RespondentID                                                                    \n",
       "3292879998                                                   No                 \n",
       "3292879538                                                  Yes                 \n",
       "3292765271                                                   No                 \n",
       "3292763116                                                  Yes                 \n",
       "3292731220                                                   No                 \n",
       "\n",
       "             Gender    Age     Household Income  \\\n",
       "RespondentID                                      \n",
       "3292879998     Male  18-29                  NaN   \n",
       "3292879538     Male  18-29         $0 - $24,999   \n",
       "3292765271     Male  18-29         $0 - $24,999   \n",
       "3292763116     Male  18-29  $100,000 - $149,999   \n",
       "3292731220     Male  18-29  $100,000 - $149,999   \n",
       "\n",
       "                                     Education Location (Census Region)  \n",
       "RespondentID                                                             \n",
       "3292879998                  High school degree           South Atlantic  \n",
       "3292879538                     Bachelor degree       West South Central  \n",
       "3292765271                  High school degree       West North Central  \n",
       "3292763116    Some college or Associate degree       West North Central  \n",
       "3292731220    Some college or Associate degree       West North Central  \n",
       "\n",
       "[5 rows x 37 columns]"
      ]
     },
     "execution_count": 4,
     "metadata": {},
     "output_type": "execute_result"
    }
   ],
   "source": [
    "star_wars.set_index('RespondentID', inplace=True)\n",
    "star_wars.head()"
   ]
  },
  {
   "cell_type": "markdown",
   "metadata": {},
   "source": [
    "** Converting columns 1 and 2 into boolean**"
   ]
  },
  {
   "cell_type": "code",
   "execution_count": 5,
   "metadata": {
    "collapsed": false
   },
   "outputs": [],
   "source": [
    "yes_no = {\n",
    "    'Yes': True,\n",
    "    'No': False \n",
    "}\n",
    "\n",
    "star_wars.iloc[:,0] = star_wars.iloc[:,0].map(yes_no)\n",
    "star_wars.iloc[:,1] = star_wars.iloc[:,1].map(yes_no)"
   ]
  },
  {
   "cell_type": "markdown",
   "metadata": {},
   "source": [
    "** Cleaning up the 'Ranking: X' columns **"
   ]
  },
  {
   "cell_type": "code",
   "execution_count": 6,
   "metadata": {
    "collapsed": false
   },
   "outputs": [],
   "source": [
    "for index in range(2,8):\n",
    "    col_name = star_wars.columns[index]\n",
    "    star_wars[col_name] = pd.notnull(star_wars[col_name])\n",
    "    \n",
    "star_wars[star_wars.columns[8:14]] = star_wars[star_wars.columns[8:14]].astype(float)"
   ]
  },
  {
   "cell_type": "markdown",
   "metadata": {},
   "source": [
    "** Transforming 'Popularity' columns into intergervalues ('Unfamiliar (N/A)' -> NaN) **"
   ]
  },
  {
   "cell_type": "code",
   "execution_count": 7,
   "metadata": {
    "collapsed": false
   },
   "outputs": [],
   "source": [
    "string_to_number = {\n",
    "    'Very favorably' : 2,\n",
    "    'Somewhat favorably' : 1,\n",
    "    'Neither favorably nor unfavorably (neutral)' : 0,\n",
    "    'Somewhat unfavorably' : -1,\n",
    "    'Very unfavorably' : -2,\n",
    "    'Unfamiliar (N/A)' : None,\n",
    "    None : None\n",
    "}\n",
    "no_nan = star_wars[star_wars.columns[14:28]].fillna('Unfamiliar (N/A)')\n",
    "star_wars[star_wars.columns[14:28]] = no_nan.applymap(lambda x: string_to_number[x])\n"
   ]
  },
  {
   "cell_type": "markdown",
   "metadata": {},
   "source": [
    "** Removing columns not interesting to me **"
   ]
  },
  {
   "cell_type": "code",
   "execution_count": 8,
   "metadata": {
    "collapsed": false
   },
   "outputs": [],
   "source": [
    "star_wars.drop(star_wars.columns[28:31],inplace=True,axis=1)"
   ]
  },
  {
   "cell_type": "markdown",
   "metadata": {},
   "source": [
    "** Converting column 28 into boolean **"
   ]
  },
  {
   "cell_type": "code",
   "execution_count": 9,
   "metadata": {
    "collapsed": false
   },
   "outputs": [],
   "source": [
    "star_wars.iloc[:,28] = star_wars.iloc[:,28].map(yes_no);"
   ]
  },
  {
   "cell_type": "markdown",
   "metadata": {
    "collapsed": false
   },
   "source": [
    "** Which star wars movies has the best ranking? (lower is better) **"
   ]
  },
  {
   "cell_type": "code",
   "execution_count": 10,
   "metadata": {
    "collapsed": false
   },
   "outputs": [],
   "source": [
    "ranking = star_wars.iloc[:,8:14]\n",
    "ranking_means = ranking.apply(np.mean)\n",
    "ranking_std = ranking.apply(np.std)"
   ]
  },
  {
   "cell_type": "code",
   "execution_count": 11,
   "metadata": {
    "collapsed": false,
    "scrolled": true
   },
   "outputs": [
    {
     "data": {
      "image/png": "[encoded data removed]",
      "text/plain": [
       "<matplotlib.figure.Figure at 0x7fa10c1618d0>"
      ]
     },
     "metadata": {},
     "output_type": "display_data"
    }
   ],
   "source": [
    "width = 0.2 \n",
    "index = np.arange(len(ranking_means))\n",
    "\n",
    "fig, ax = plt.subplots()\n",
    "rects = ax.bar(index, ranking_means, width, color='grey', yerr=ranking_std)\n",
    "ax.set_ylabel('Rating (mean) [lower is better]')\n",
    "ax.set_title('Average rating for the first six Star Wars movies')\n",
    "ax.set_xticks(index)\n",
    "ax.set_xticklabels([(x + \"_\").strip('Ranking: ') for x in ranking.columns], rotation='vertical');"
   ]
  },
  {
   "cell_type": "markdown",
   "metadata": {},
   "source": [
    "Just by looking at the bar-plot above it seems the be obvious that 'The Empire Strikes Back' is the movie with the best rating. Since the standard deviation is rather high statistical testing would be needed clarify if the result is significant or not. It also seems to be the case that the old Movies (Episodes IV - VI) are more popular than the new ones (Episodes I - III)."
   ]
  },
  {
   "cell_type": "markdown",
   "metadata": {},
   "source": [
    "** How many people have seen the Movies? **"
   ]
  },
  {
   "cell_type": "code",
   "execution_count": 12,
   "metadata": {
    "collapsed": false,
    "scrolled": true
   },
   "outputs": [
    {
     "data": {
      "image/png": "[encoded data removed]",
      "text/plain": [
       "<matplotlib.figure.Figure at 0x7fa01b8ca668>"
      ]
     },
     "metadata": {},
     "output_type": "display_data"
    }
   ],
   "source": [
    "seen = star_wars.iloc[:,2:8]\n",
    "seen_sum = seen.apply(np.sum)\n",
    "#ranking_std = ranking.apply(np.std)\n",
    "width = 0.2 \n",
    "index = np.arange(len(seen_sum))\n",
    "\n",
    "fig, ax = plt.subplots()\n",
    "rects = ax.bar(index, seen_sum, width, color='grey')\n",
    "ax.set_ylabel('Number of people who have seen the movie')\n",
    "ax.set_title('How many people have seen the Movies? ')\n",
    "ax.set_xticks(index)\n",
    "ax.set_xticklabels([(x + \"_\").strip('Seen: ') for x in seen.columns], rotation='vertical');"
   ]
  },
  {
   "cell_type": "markdown",
   "metadata": {},
   "source": [
    "** Let's see how 'seen' and 'rating' are correlated **"
   ]
  },
  {
   "cell_type": "code",
   "execution_count": 13,
   "metadata": {
    "collapsed": false
   },
   "outputs": [
    {
     "name": "stdout",
     "output_type": "stream",
     "text": [
      "-0.878126494138\n"
     ]
    }
   ],
   "source": [
    "print(np.corrcoef(seen_sum,ranking_means)[0,1])"
   ]
  },
  {
   "cell_type": "markdown",
   "metadata": {},
   "source": [
    "What the figure depicting the number of people who have seen the movies in comparrison to the movie ratings suggests is correlation between the two. A correlation coefficient (Pearson) of -0.878 confirms this impression. Remember that a low rating here means that people like the movie.\n",
    "One possible explanation for this could simply be that quality causes sales. People hear good things about at movie and that raises the likelyhood for them to wacth the movie themselfs.\n",
    "Another explanation would be that people who watched a movie tend to rate it better than movies they haven't seen. "
   ]
  },
  {
   "cell_type": "markdown",
   "metadata": {},
   "source": [
    "** Is there a difference between men and woman? **"
   ]
  },
  {
   "cell_type": "code",
   "execution_count": 14,
   "metadata": {
    "collapsed": true
   },
   "outputs": [],
   "source": [
    "males = star_wars[star_wars[\"Gender\"] == \"Male\"]\n",
    "males_ranking = males.iloc[:,8:14]\n",
    "\n",
    "females = star_wars[star_wars[\"Gender\"] == \"Female\"]\n",
    "females_ranking = females.iloc[:,8:14]\n",
    "\n",
    "males_ranking_means = males_ranking.apply(np.mean)\n",
    "males_ranking_std = males_ranking.apply(np.std)\n",
    "\n",
    "females_ranking_means = females_ranking.apply(np.mean)\n",
    "females_ranking_std = females_ranking.apply(np.std)\n"
   ]
  },
  {
   "cell_type": "code",
   "execution_count": 15,
   "metadata": {
    "collapsed": false,
    "scrolled": true
   },
   "outputs": [
    {
     "data": {
      "image/png": "[encoded data removed]",
      "text/plain": [
       "<matplotlib.figure.Figure at 0x7fa01b8b1978>"
      ]
     },
     "metadata": {},
     "output_type": "display_data"
    }
   ],
   "source": [
    "width = 0.2 \n",
    "index = np.arange(len(ranking_means))\n",
    "\n",
    "fig, ax = plt.subplots()\n",
    "rects_men = ax.bar(index, males_ranking_means, width, color='blue', yerr=males_ranking_std)\n",
    "rects_women = ax.bar(index + width, females_ranking_means, width, color='green', yerr=females_ranking_std)\n",
    "\n",
    "ax.set_ylabel('Rating (mean) [lower is better]')\n",
    "ax.set_title('Average rating for the first six Star Wars movies')\n",
    "ax.set_xticks(index)\n",
    "ax.set_xticklabels([(x + \"_\").strip('Ranking: ') for x in ranking.columns], rotation='vertical');\n",
    "\n",
    "\n",
    "ax.legend((rects_men[0], rects_women[0]), ('Men', 'Women'));"
   ]
  },
  {
   "cell_type": "markdown",
   "metadata": {},
   "source": [
    "Overall the difference between the to groups is rather small. Women seem to have a slight preference for the newer trilogy. The largest difference can be seen in the rating of Episode I."
   ]
  },
  {
   "cell_type": "code",
   "execution_count": 16,
   "metadata": {
    "collapsed": true
   },
   "outputs": [],
   "source": [
    "males = star_wars[star_wars[\"Gender\"] == \"Male\"]\n",
    "males_seen = males.iloc[:,2:8]\n",
    "\n",
    "females = star_wars[star_wars[\"Gender\"] == \"Female\"]\n",
    "females_seen = females.iloc[:,2:8]\n",
    "\n",
    "males_seen_norm = males_seen.apply(np.sum) / len(males) * 100 \n",
    "\n",
    "females_seen_norm = females_seen.apply(np.sum) / len(females) * 100 "
   ]
  },
  {
   "cell_type": "code",
   "execution_count": 17,
   "metadata": {
    "collapsed": false
   },
   "outputs": [
    {
     "data": {
      "image/png": "[encoded data removed]",
      "text/plain": [
       "<matplotlib.figure.Figure at 0x7fa01b6fff60>"
      ]
     },
     "metadata": {},
     "output_type": "display_data"
    }
   ],
   "source": [
    "width = 0.2 \n",
    "index = np.arange(len(ranking_means))\n",
    "\n",
    "fig, ax = plt.subplots()\n",
    "rects_men = ax.bar(index, males_seen_norm, width, color='blue')\n",
    "rects_women = ax.bar(index + width, females_seen_norm, width, color='green')\n",
    "\n",
    "ax.set_ylabel('Percentage of people who have seen the movie')\n",
    "ax.set_title('Difference in \"seen\" in respect to men and woman')\n",
    "ax.set_ylim([0,100])\n",
    "ax.set_xticks(index)\n",
    "ax.set_xticklabels([(x + \"_\").strip('Ranking: ') for x in ranking.columns], rotation='vertical');\n",
    "\n",
    "\n",
    "ax.legend((rects_men[0], rects_women[0]), ('Men', 'Women'));"
   ]
  },
  {
   "cell_type": "code",
   "execution_count": 18,
   "metadata": {
    "collapsed": false
   },
   "outputs": [
    {
     "data": {
      "text/plain": [
       "19.460234387502915"
      ]
     },
     "execution_count": 18,
     "metadata": {},
     "output_type": "execute_result"
    }
   ],
   "source": [
    "np.mean(males_seen_norm - females_seen_norm)"
   ]
  },
  {
   "cell_type": "markdown",
   "metadata": {},
   "source": [
    "The basic pattern of the 'seen' variable looks similar for men and woman compared to the bar-plot of both genders combined. The striking difference is of course that the star wars movies seem to be a lot less popular among women. The average difference in the grouped 'seen'-variable is 19.46%."
   ]
  },
  {
   "cell_type": "markdown",
   "metadata": {},
   "source": [
    "\n",
    "\n",
    "    Try to segment the data by columns like Education, Location (Census Region), and Which character shot first?, which aren't binary. Are they any interesting patterns?\n",
    "    Clean up columns 15 to 29, which have to do with what characters are viewed favorably and unfavorably.\n",
    "        Which character is the most liked?\n",
    "        Which character is the most disliked?\n",
    "        Which character creates the most controversy? (split between dislikes and likes)\n"
   ]
  }
 ],
 "metadata": {
  "kernelspec": {
   "display_name": "Python 3",
   "language": "python",
   "name": "python3"
  },
  "language_info": {
   "codemirror_mode": {
    "name": "ipython",
    "version": 3
   },
   "file_extension": ".py",
   "mimetype": "text/x-python",
   "name": "python",
   "nbconvert_exporter": "python",
   "pygments_lexer": "ipython3",
   "version": "3.4.3"
  }
 },
 "nbformat": 4,
 "nbformat_minor": 0
}
